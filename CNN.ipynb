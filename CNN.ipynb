{
 "cells": [
  {
   "cell_type": "markdown",
   "id": "a8ff0565-a98d-47d3-8438-08f733e16088",
   "metadata": {},
   "source": [
    "#### Parte 3: Arquitectura de una CNN\n",
    "\n",
    "Una arquitectura típica de CNN consiste en capas alternadas de convolución y pooling, seguidas de capas completamente conectadas:\n"
   ]
  },
  {
   "cell_type": "markdown",
   "id": "c51424f0-9f16-4825-8830-8b648ee4eaa5",
   "metadata": {},
   "source": [
    "\n",
    "\n",
    "- Una capa convolucional con 32 filtros, tamaño de kernel 3x3 y activación ReLU.\n",
    "- Una capa de max pooling con tamaño de pool 2x2.\n",
    "- Una segunda capa convolucional con 64 filtros, tamaño de kernel 3x3 y activación ReLU.\n",
    "- Una segunda capa de max pooling con tamaño de pool 2x2.\n",
    "- Una tercera capa convolucional con 64 filtros, tamaño de kernel 3x3 y activación ReLU.\n",
    "- Una capa completamente conectada con 64 unidades y activación ReLU.\n",
    "- Una capa de salida con 10 unidades y activación softmax (para una clasificación de 10 clases)."
   ]
  },
  {
   "cell_type": "markdown",
   "id": "5b08b434-2b0f-4ca8-b176-0f944c995633",
   "metadata": {},
   "source": [
    "\n",
    "\n",
    "### Explicación\n",
    "\n",
    "1. **Capas Convolucionales**:\n",
    "   - `self.conv1`: 32 filtros, tamaño de kernel 3x3, activación ReLU.\n",
    "   - `self.conv2`: 64 filtros, tamaño de kernel 3x3, activación ReLU.\n",
    "   - `self.conv3`: 64 filtros, tamaño de kernel 3x3, activación ReLU.\n",
    "\n",
    "2. **Capas de Pooling**:\n",
    "   - `self.pool1`: Max pooling con tamaño 2x2.\n",
    "   - `self.pool2`: Max pooling con tamaño 2x2.\n",
    "   - `self.pool3`: Max pooling con tamaño 2x2.\n",
    "\n",
    "3. **Capas Completamente Conectadas**:\n",
    "   - `self.fc1`: 64 unidades, activación ReLU.\n",
    "   - `self.fc2`: 10 unidades (para 10 clases de salida).\n",
    "\n",
    "4. **Aplanado**:\n",
    "   - `x = x.view(-1, 64 * 4 * 4)`: Aplanar las características antes de pasar a las capas completamente conectadas.\n",
    "\n",
    "### Uso del Modelo\n",
    "\n",
    "Para usar este modelo, puedes definir un conjunto de datos, un optimizador y un criterio de pérdida, y luego entrenar la red con tus datos."
   ]
  },
  {
   "cell_type": "markdown",
   "id": "60f6b926-4786-4329-a42b-78d946652c39",
   "metadata": {},
   "source": [
    "import matplotlib.pyplot as plt\n",
    "def visualize_feature_maps(x, title):\n",
    "    num_filters = x.shape[1]\n",
    "    fig, axes = plt.subplots(1, num_filters, figsize=(num_filters * 3, 6))  # Adjusted figure size\n",
    "    for i in range(num_filters):\n",
    "        if num_filters == 1:\n",
    "            ax = axes\n",
    "        else:\n",
    "            ax = axes[i]\n",
    "        ax.imshow(x[0, i].detach().numpy(), cmap='viridis')\n",
    "        ax.axis('off')\n",
    "    plt.suptitle(title, fontsize=16)\n",
    "    plt.show()"
   ]
  },
  {
   "cell_type": "markdown",
   "id": "1e7f8543-9f6f-479f-8ffd-364a4fce5de4",
   "metadata": {},
   "source": [
    "# Importar Librerias"
   ]
  },
  {
   "cell_type": "code",
   "execution_count": 1,
   "id": "5c9cf237-0e54-4f4a-b5f9-0f63b17ae494",
   "metadata": {},
   "outputs": [],
   "source": [
    "import torch\n",
    "import torchvision\n",
    "import torchvision.transforms as transforms\n",
    "from torchvision import datasets, transforms\n",
    "from torch.utils.data import DataLoader\n",
    "import torch.optim as optim\n",
    "from PIL import Image\n",
    "import numpy as np"
   ]
  },
  {
   "cell_type": "markdown",
   "id": "6b7cf3b5-1030-41e0-bd9f-e82fb0c24c1b",
   "metadata": {},
   "source": [
    "# Descarga, carga y normalización de CIFAR-10"
   ]
  },
  {
   "cell_type": "code",
   "execution_count": 2,
   "id": "061b8621-cfc4-4ca7-90b7-f3ccd500fd55",
   "metadata": {},
   "outputs": [
    {
     "name": "stdout",
     "output_type": "stream",
     "text": [
      "Files already downloaded and verified\n",
      "Files already downloaded and verified\n"
     ]
    }
   ],
   "source": [
    "# Definir las transformaciones para los datos de entrenamiento y prueba\n",
    "transform = transforms.Compose([\n",
    "    transforms.ToTensor(),\n",
    "    transforms.Normalize((0.5, 0.5, 0.5), (0.5, 0.5, 0.5))\n",
    "])\n",
    "\n",
    "transform = transforms.Compose(\n",
    "    [transforms.ToTensor(),\n",
    "     transforms.Normalize((0.5, 0.5, 0.5), (0.5, 0.5, 0.5))])\n",
    "\n",
    "trainset = torchvision.datasets.CIFAR10(root='./data/', \n",
    "                                        train=True,\n",
    "                                        download=True, \n",
    "                                        transform=transform)\n",
    "trainloader = torch.utils.data.DataLoader(trainset, \n",
    "                                          batch_size=4,\n",
    "                                          shuffle=True)\n",
    "\n",
    "testset = torchvision.datasets.CIFAR10(root='./data', \n",
    "                                       train=False,\n",
    "                                       download=True, \n",
    "                                       transform=transform)\n",
    "testloader = torch.utils.data.DataLoader(testset, \n",
    "                                         batch_size=4,\n",
    "                                         shuffle=False)\n",
    "\n",
    "classes = ('plane', 'car', 'bird', 'cat', 'deer', \n",
    "           'dog', 'frog', 'horse', 'ship', 'truck')"
   ]
  },
  {
   "cell_type": "code",
   "execution_count": 3,
   "id": "8aabf78a-e360-4844-91d8-d5ad41f47e07",
   "metadata": {},
   "outputs": [],
   "source": [
    "# Mostrar lote aleatorio de 4 imágenes de entrenamiento"
   ]
  },
  {
   "cell_type": "code",
   "execution_count": 4,
   "id": "ac013f6e-b148-4e35-871e-c3a2e1ee67e9",
   "metadata": {},
   "outputs": [
    {
     "data": {
      "image/png": "[encoded data removed]",
      "text/plain": [
       "<Figure size 1200x250 with 4 Axes>"
      ]
     },
     "metadata": {},
     "output_type": "display_data"
    }
   ],
   "source": [
    "import matplotlib.pyplot as plt\n",
    "import numpy as np\n",
    "\n",
    "def convert_to_imshow_format(image):\n",
    "    # first convert back to [0,1] range from [-1,1] range\n",
    "    image = image / 2 + 0.5\n",
    "    image = image.numpy()\n",
    "    # convert from CHW to HWC\n",
    "    # from 3x32x32 to 32x32x3\n",
    "    return image.transpose(1, 2, 0)\n",
    "\n",
    "dataiter = iter(trainloader)\n",
    "images, labels = next(dataiter)  # Use the next() function\n",
    "\n",
    "fig, axes = plt.subplots(1, len(images), figsize=(12, 2.5))\n",
    "for idx, image in enumerate(images):\n",
    "    axes[idx].imshow(convert_to_imshow_format(image))\n",
    "    axes[idx].set_title(classes[labels[idx]])\n",
    "    axes[idx].set_xticks([])\n",
    "    axes[idx].set_yticks([])\n",
    "\n",
    "plt.show()"
   ]
  },
  {
   "cell_type": "code",
   "execution_count": 5,
   "id": "be08db9c-0575-4ee6-b5aa-2c5e3118931c",
   "metadata": {},
   "outputs": [
    {
     "name": "stdout",
     "output_type": "stream",
     "text": [
      "CNN(\n",
      "  (conv1): Conv2d(3, 32, kernel_size=(3, 3), stride=(1, 1), padding=(1, 1))\n",
      "  (pool1): MaxPool2d(kernel_size=2, stride=2, padding=0, dilation=1, ceil_mode=False)\n",
      "  (conv2): Conv2d(32, 64, kernel_size=(3, 3), stride=(1, 1), padding=(1, 1))\n",
      "  (pool2): MaxPool2d(kernel_size=2, stride=2, padding=0, dilation=1, ceil_mode=False)\n",
      "  (conv3): Conv2d(64, 64, kernel_size=(3, 3), stride=(1, 1), padding=(1, 1))\n",
      "  (pool3): MaxPool2d(kernel_size=2, stride=2, padding=0, dilation=1, ceil_mode=False)\n",
      "  (fc1): Linear(in_features=1024, out_features=64, bias=True)\n",
      "  (fc2): Linear(in_features=64, out_features=10, bias=True)\n",
      ")\n"
     ]
    }
   ],
   "source": [
    "import torch\n",
    "import torch.nn as nn\n",
    "\n",
    "import torch.nn.functional as F\n",
    "\n",
    "class CNN(nn.Module):\n",
    "    def __init__(self):\n",
    "        super(CNN, self).__init__()\n",
    "        # Capa convolucional 1: 32 filtros, kernel 3x3, activación ReLU\n",
    "        self.conv1 = nn.Conv2d(in_channels=3, out_channels=32, kernel_size=3, padding=1)\n",
    "        # Capa de max pooling 1: tamaño del pool 2x2\n",
    "        self.pool1 = nn.MaxPool2d(kernel_size=2, stride=2)\n",
    "\n",
    "        # Capa convolucional 2: 64 filtros, kernel 3x3, activación ReLU\n",
    "        self.conv2 = nn.Conv2d(in_channels=32, out_channels=64, kernel_size=3, padding=1)\n",
    "        # Capa de max pooling 2: tamaño del pool 2x2\n",
    "        self.pool2 = nn.MaxPool2d(kernel_size=2, stride=2)\n",
    "\n",
    "        # Capa convolucional 3: 64 filtros, kernel 3x3, activación ReLU\n",
    "        self.conv3 = nn.Conv2d(in_channels=64, out_channels=64, kernel_size=3, padding=1)\n",
    "        # Capa de max pooling 3: tamaño del pool 2x2\n",
    "        self.pool3 = nn.MaxPool2d(kernel_size=2, stride=2)\n",
    "        # Capa completamente conectada: 64 unidades, activación ReLU\n",
    "        self.fc1 = nn.Linear(64 * 4 * 4, 64)\n",
    "        # Capa de salida: 10 unidades (para clasificación en 10 clases), activación softmax\n",
    "        self.fc2 = nn.Linear(64,10)\n",
    "    def forward(self, x):\n",
    "        # Aplicar la primera capa convolucional seguida de ReLU y pooling\n",
    "        x = self.pool1(F.relu(self.conv1(x)))\n",
    "        # Aplicar la segunda capa convolucional seguida de ReLU y pooling\n",
    "        x = self.pool2(F.relu(self.conv2(x)))\n",
    "        # Aplicar la tercera capa convolucional seguida de ReLU y pooling\n",
    "        x = self.pool3(F.relu(self.conv3(x)))\n",
    "        # Aplanar las características para la capa completamente conectada\n",
    "        x = x.view(-1, 64 * 4 * 4)\n",
    "        # Aplicar la primera capa completamente conectada seguida de ReLU\n",
    "        x = F.relu(self.fc1(x))\n",
    "        # Aplicar la capa de salida\n",
    "        x = self.fc2(x)\n",
    "        x = F.softmax(x, dim=1)\n",
    "        return x\n",
    "\n",
    "# Crear una instancia de la red\n",
    "net = CNN()\n",
    "# Mostrar la arquitectura del modelo\n",
    "print(net)"
   ]
  },
  {
   "cell_type": "code",
   "execution_count": 6,
   "id": "70ff1069-0160-4173-83da-dbe65988756d",
   "metadata": {},
   "outputs": [],
   "source": [
    "import torch.optim as optim\n",
    "\n",
    "criterion = nn.CrossEntropyLoss()\n",
    "optimizer = optim.SGD(net.parameters(), lr=0.001, momentum=0.9)"
   ]
  },
  {
   "cell_type": "markdown",
   "id": "6f6cca73-30b6-43d6-8b58-247cc52825eb",
   "metadata": {},
   "source": [
    "# Entrenando la Red"
   ]
  },
  {
   "cell_type": "code",
   "execution_count": 7,
   "id": "fec85ba0-d023-442a-bdf3-481323c97d3c",
   "metadata": {},
   "outputs": [
    {
     "name": "stdout",
     "output_type": "stream",
     "text": [
      "Loaded model parameters from disk.\n"
     ]
    }
   ],
   "source": [
    "import os\n",
    "\n",
    "epochs = 2\n",
    "\n",
    "model_directory_path = 'model/'\n",
    "model_path = model_directory_path + 'cifar-10-cnn-model.pt'\n",
    "\n",
    "if not os.path.exists(model_directory_path):\n",
    "    os.makedirs(model_directory_path)\n",
    "\n",
    "if os.path.isfile(model_path):\n",
    "    # load trained model parameters from disk\n",
    "    net.load_state_dict(torch.load(model_path))\n",
    "    print('Loaded model parameters from disk.')\n",
    "else:\n",
    "    for epoch in range(epochs):  # loop over the dataset multiple times\n",
    "\n",
    "        running_loss = 0.0\n",
    "        for i, data in enumerate(trainloader, 0):\n",
    "            # get the inputs\n",
    "            inputs, labels = data\n",
    "\n",
    "            # zero the parameter gradients\n",
    "            optimizer.zero_grad()\n",
    "\n",
    "            # forward + backward + optimize\n",
    "            outputs = net(inputs)\n",
    "            loss = criterion(outputs, labels)\n",
    "            loss.backward()\n",
    "            optimizer.step()\n",
    "\n",
    "            # print statistics\n",
    "            running_loss += loss.item()\n",
    "            if i % 2000 == 1999:    # print every 2000 mini-batches\n",
    "                print('[%d, %5d] loss: %.3f' %\n",
    "                      (epoch + 1, i + 1, running_loss / 2000))\n",
    "                running_loss = 0.0\n",
    "    print('Finished Training.')\n",
    "    torch.save(net.state_dict(), model_path)\n",
    "    print('Saved model parameters to disk.')"
   ]
  },
  {
   "cell_type": "markdown",
   "id": "ee7ae98d-a67c-415a-b77b-fa3d91cbcaae",
   "metadata": {},
   "source": [
    "# Testeos"
   ]
  },
  {
   "cell_type": "code",
   "execution_count": 12,
   "id": "5ca2aa41-bfa1-4c51-a2d2-af79fab89ae6",
   "metadata": {},
   "outputs": [
    {
     "data": {
      "image/png": "[encoded data removed]",
      "text/plain": [
       "<Figure size 1200x250 with 4 Axes>"
      ]
     },
     "metadata": {},
     "output_type": "display_data"
    }
   ],
   "source": [
    "dataiter = iter(testloader)\n",
    "images, labels = next(dataiter)  # Use the next() function\n",
    "\n",
    "fig, axes = plt.subplots(1, len(images), figsize=(12, 2.5))\n",
    "for idx, image in enumerate(images):\n",
    "    axes[idx].imshow(convert_to_imshow_format(image))\n",
    "    axes[idx].set_title(classes[labels[idx]])\n",
    "    axes[idx].set_xticks([])\n",
    "    axes[idx].set_yticks([])\n",
    "\n",
    "plt.show()"
   ]
  },
  {
   "cell_type": "code",
   "execution_count": 13,
   "id": "e2fe3d8f-67a2-45c7-83cc-6380bdbd3f3f",
   "metadata": {},
   "outputs": [],
   "source": [
    "outputs = net(images)"
   ]
  },
  {
   "cell_type": "code",
   "execution_count": 14,
   "id": "e2aea997-e6ef-4c82-93cb-b3053470bcca",
   "metadata": {},
   "outputs": [
    {
     "data": {
      "text/plain": [
       "tensor([[4.0461e-05, 1.0047e-05, 2.0798e-03, 6.5043e-01, 1.5294e-07, 6.8391e-02,\n",
       "         6.6833e-04, 3.5244e-09, 2.7837e-01, 1.5542e-05],\n",
       "        [5.2944e-10, 5.3385e-06, 8.3371e-11, 9.1183e-10, 2.6940e-17, 3.0162e-14,\n",
       "         6.1720e-12, 1.7907e-18, 9.9998e-01, 1.8430e-05],\n",
       "        [4.3321e-08, 2.0456e-06, 1.3654e-08, 4.1786e-07, 5.6892e-13, 2.4218e-09,\n",
       "         2.5289e-09, 4.9146e-13, 9.9995e-01, 4.6984e-05],\n",
       "        [5.4353e-07, 8.4776e-09, 1.1567e-08, 5.0895e-09, 1.6186e-14, 5.8895e-12,\n",
       "         4.8683e-12, 5.3453e-15, 1.0000e+00, 1.5942e-07]],\n",
       "       grad_fn=<SoftmaxBackward0>)"
      ]
     },
     "execution_count": 14,
     "metadata": {},
     "output_type": "execute_result"
    }
   ],
   "source": [
    "outputs"
   ]
  },
  {
   "cell_type": "markdown",
   "id": "fecd3011-2620-4ed7-863e-6a73f72779a6",
   "metadata": {},
   "source": [
    "* Utilizar Softmax para oftener puntuacion de probabilidad"
   ]
  },
  {
   "cell_type": "code",
   "execution_count": 15,
   "id": "bde85c03-99b2-4a08-ba95-6401b2161e91",
   "metadata": {},
   "outputs": [
    {
     "name": "stdout",
     "output_type": "stream",
     "text": [
      "tensor([[0.0884, 0.0884, 0.0886, 0.1694, 0.0884, 0.0947, 0.0885, 0.0884, 0.1168,\n",
      "         0.0884],\n",
      "        [0.0853, 0.0853, 0.0853, 0.0853, 0.0853, 0.0853, 0.0853, 0.0853, 0.2320,\n",
      "         0.0853],\n",
      "        [0.0853, 0.0853, 0.0853, 0.0853, 0.0853, 0.0853, 0.0853, 0.0853, 0.2320,\n",
      "         0.0853],\n",
      "        [0.0853, 0.0853, 0.0853, 0.0853, 0.0853, 0.0853, 0.0853, 0.0853, 0.2320,\n",
      "         0.0853]], grad_fn=<SoftmaxBackward0>)\n"
     ]
    }
   ],
   "source": [
    "sm = nn.Softmax(dim=1)\n",
    "sm_outputs = sm(outputs)\n",
    "print(sm_outputs)"
   ]
  },
  {
   "cell_type": "markdown",
   "id": "72cb0971-928e-4da1-b62d-12ed78507528",
   "metadata": {},
   "source": [
    "### Resultados\n",
    "#### Imagen 1\n",
    "- [0.0884, 0.0884, 0.0886, 0.1694, 0.0884, 0.0947, 0.0885, 0.0884, 0.1168,\r\n",
    "         0.0884\n",
    "- [plane,   car,   bird,   cat,   deer,   dog,   frog,   horse,   ship,   truck]]\n",
    "* Probabilidad de qe el **primer** elemento sea de la categoria correcta es *0.08846**\n",
    "* Probabilidad de qe el **segundo** elemento sea de la categoria correcta es *0.08846**\n",
    "* Probabilidad de qe el **tercer** elemento sea de la categoria correcta es *0.08868**\n",
    "* Probabilidad de qe el **cuarto** elemento sea de la categoria correcta es *0.16945**\n",
    "* Probabilidad de qe el **quinto** elemento sea de la categoria correcta es *0.08844**\n",
    "* Probabilidad de qe el **sexto** elemento sea de la categoria correcta es *0.09475**\n",
    "* Probabilidad de qe el **septimo** elemento sea de la categoria correcta es *0.08854**\n",
    "* Probabilidad de qe el **octavo** elemento sea de la categoria correcta es *0.08843**\n",
    "* Probabilidad de qe el **noveno** elemento sea de la categoria correcta es *0.11684**\n",
    "* Probabilidad de qe el **decimo** elemento sea de la categoria correcta es *0.08846**"
   ]
  },
  {
   "cell_type": "code",
   "execution_count": null,
   "id": "f82d9539-e27a-45a5-966f-283019023984",
   "metadata": {},
   "outputs": [],
   "source": []
  }
 ],
 "metadata": {
  "kernelspec": {
   "display_name": "Python 3 (ipykernel)",
   "language": "python",
   "name": "python3"
  },
  "language_info": {
   "codemirror_mode": {
    "name": "ipython",
    "version": 3
   },
   "file_extension": ".py",
   "mimetype": "text/x-python",
   "name": "python",
   "nbconvert_exporter": "python",
   "pygments_lexer": "ipython3",
   "version": "3.11.7"
  }
 },
 "nbformat": 4,
 "nbformat_minor": 5
}
